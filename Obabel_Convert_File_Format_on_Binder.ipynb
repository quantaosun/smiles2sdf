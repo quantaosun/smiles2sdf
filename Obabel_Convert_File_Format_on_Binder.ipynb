{
  "cells": [
    {
      "cell_type": "markdown",
      "metadata": {
        "id": "view-in-github",
        "colab_type": "text"
      },
      "source": [
        "<a href=\"https://colab.research.google.com/github/quantaosun/smiles2sdf/blob/main/Obabel_Convert_File_Format_on_Binder.ipynb\" target=\"_parent\"><img src=\"https://colab.research.google.com/assets/colab-badge.svg\" alt=\"Open In Colab\"/></a>"
      ]
    },
    {
      "cell_type": "code",
      "execution_count": null,
      "metadata": {
        "id": "uI1O58IWInH7",
        "colab": {
          "base_uri": "https://localhost:8080/"
        },
        "outputId": "05e606ce-04b2-4dc0-f8c1-56d416ae2c8f"
      },
      "outputs": [
        {
          "output_type": "stream",
          "name": "stdout",
          "text": [
            "1 molecule converted\n"
          ]
        }
      ],
      "source": [
        "#@title  1）Convert a single SMILE string\n",
        "Smiles = \"c1ccccc1\" #@param {type:\"string\"}\n",
        "!obabel -:\"{Smiles}\" -osdf -O ligand.sdf --gen3d\n",
        "!obabel -:\"{Smiles}\" -opdb -O ligand.pdb --gen3d"
      ]
    }
  ],
  "metadata": {
    "colab": {
      "provenance": [],
      "include_colab_link": true
    },
    "kernelspec": {
      "display_name": "Python 3",
      "name": "python3"
    }
  },
  "nbformat": 4,
  "nbformat_minor": 0
}