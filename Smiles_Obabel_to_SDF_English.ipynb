{
  "cells": [
    {
      "cell_type": "markdown",
      "metadata": {
        "id": "view-in-github",
        "colab_type": "text"
      },
      "source": [
        "<a href=\"https://colab.research.google.com/github/quantaosun/SMILES-chemical-format-to-3D/blob/main/Smiles_Obabel_to_SDF_English.ipynb\" target=\"_parent\"><img src=\"https://colab.research.google.com/assets/colab-badge.svg\" alt=\"Open In Colab\"/></a>"
      ]
    },
    {
      "cell_type": "markdown",
      "metadata": {
        "id": "o-4IOizard4P"
      },
      "source": [
        "# 👋Hello, this notebook shows how to convert\n",
        " 1) a single smile string, or 2) Several smiles strings as a batch, or 3) a whole lot of smiles strings downloaded from Chembl database to SDF file format."
      ]
    },
    {
      "cell_type": "markdown",
      "source": [
        "## Skip the first two cells and directly use the obabel, if you starting this from binder"
      ],
      "metadata": {
        "id": "ZNVtfR7WZxFR"
      }
    },
    {
      "cell_type": "code",
      "source": [
        "!pip install -q condacolab\n",
        "import condacolab\n",
        "condacolab.install()"
      ],
      "metadata": {
        "colab": {
          "base_uri": "https://localhost:8080/"
        },
        "id": "sP7FDoLEu78B",
        "outputId": "bfdc236f-3435-4013-bf95-cb2861b7acc2"
      },
      "execution_count": 1,
      "outputs": [
        {
          "output_type": "stream",
          "name": "stdout",
          "text": [
            "⏬ Downloading https://github.com/jaimergp/miniforge/releases/latest/download/Mambaforge-colab-Linux-x86_64.sh...\n",
            "📦 Installing...\n",
            "📌 Adjusting configuration...\n",
            "🩹 Patching environment...\n",
            "⏲ Done in 0:00:21\n",
            "🔁 Restarting kernel...\n"
          ]
        }
      ]
    },
    {
      "cell_type": "code",
      "execution_count": 1,
      "metadata": {
        "colab": {
          "base_uri": "https://localhost:8080/"
        },
        "id": "H0mjQ2PcrSe5",
        "outputId": "eb811dce-5f3b-4212-a05b-545038a81bd3"
      },
      "outputs": [
        {
          "output_type": "stream",
          "name": "stdout",
          "text": [
            "Collecting package metadata (current_repodata.json): ...working... done\n",
            "Solving environment: ...working... done\n",
            "\n",
            "## Package Plan ##\n",
            "\n",
            "  environment location: /usr/local\n",
            "\n",
            "  added / updated specs:\n",
            "    - openbabel\n",
            "\n",
            "\n",
            "The following packages will be downloaded:\n",
            "\n",
            "    package                    |            build\n",
            "    ---------------------------|-----------------\n",
            "    openbabel-3.1.1            |   py38h3c5e4c7_5         5.6 MB  conda-forge\n",
            "    ------------------------------------------------------------\n",
            "                                           Total:         5.6 MB\n",
            "\n",
            "The following NEW packages will be INSTALLED:\n",
            "\n",
            "  openbabel          conda-forge/linux-64::openbabel-3.1.1-py38h3c5e4c7_5 \n",
            "\n",
            "\n",
            "Preparing transaction: ...working... done\n",
            "Verifying transaction: ...working... done\n",
            "Executing transaction: ...working... done\n"
          ]
        }
      ],
      "source": [
        "! conda install -c rdkit rdkit -y &> /dev/null\n",
        "!conda install -q -y -c openbabel openbabel -y &> /dev/null"
      ]
    },
    {
      "cell_type": "code",
      "execution_count": 2,
      "metadata": {
        "id": "uI1O58IWInH7",
        "colab": {
          "base_uri": "https://localhost:8080/"
        },
        "outputId": "05e606ce-04b2-4dc0-f8c1-56d416ae2c8f"
      },
      "outputs": [
        {
          "output_type": "stream",
          "name": "stdout",
          "text": [
            "1 molecule converted\n"
          ]
        }
      ],
      "source": [
        "#@title  1）Convert a single SMILE string\n",
        "Smiles = \"O=C1C(C2=CC(C=NC=C3)=C3C=C2)=CN(C)C4=CC=C(C(F)(F)F)C=C41\" #@param {type:\"string\"}\n",
        "!obabel -:\"{Smiles}\" -osdf -O ligand.sdf --gen3d"
      ]
    },
    {
      "cell_type": "code",
      "execution_count": null,
      "metadata": {
        "id": "q70DxWNg2NPf",
        "colab": {
          "base_uri": "https://localhost:8080/"
        },
        "outputId": "9f27713e-2874-4dc0-d908-a65cea1a70e4"
      },
      "outputs": [
        {
          "output_type": "stream",
          "name": "stdout",
          "text": [
            "1 molecule converted\n"
          ]
        }
      ],
      "source": [
        "!obabel -ipdb ligand.pdb -osdf -O ligand.sdf -gen 3d"
      ]
    },
    {
      "cell_type": "markdown",
      "metadata": {
        "id": "yMoS9cbMcuxG"
      },
      "source": [
        "# 2）Batch smiles conversion. There are two lines of smiles inside \"example.smi\"."
      ]
    },
    {
      "cell_type": "code",
      "execution_count": null,
      "metadata": {
        "id": "FTuuKDuIbhj7"
      },
      "outputs": [],
      "source": [
        "!echo \"O=C(C1=CC=C(C2=CC(C=NN3)=C3C=C2)O1)NC4=C(N5CCOCC5)C=CC(C(C=N6)=CN6C)=C4\" > example.smi"
      ]
    },
    {
      "cell_type": "code",
      "execution_count": null,
      "metadata": {
        "id": "DsgVSffSbtB-"
      },
      "outputs": [],
      "source": [
        "!echo \"O=C(C1=CC=C(C2=CC(C=CC=N3)=C3C=C2)O1)NC4=C(N5CCOCC5)C=CC(C(C=N6)=CN6C)=C4\" >> example.smi"
      ]
    },
    {
      "cell_type": "code",
      "source": [
        "!echo \"O=C(C1=CC=C(C2=CC(C=CC=N3)=C3C=C2)O1)NC4=C(N5CCOCC5)C=CC(C6=CN=CN=C6)=C4\" >> example.smi"
      ],
      "metadata": {
        "id": "I3sUAk4ZKXUL"
      },
      "execution_count": null,
      "outputs": []
    },
    {
      "cell_type": "code",
      "source": [
        "!echo \"O=C(C1=CC=C(C2=CC(C=CC=N3)=C3C=C2)O1)NC4=C(N5CCOCC5)C=CC(C6=CC=NN6)=C4\" >> example.smi"
      ],
      "metadata": {
        "id": "UmXIuNWKKXW4"
      },
      "execution_count": null,
      "outputs": []
    },
    {
      "cell_type": "code",
      "source": [
        "!echo \"O=C(C1=CC=C(C2=CC(C=CC=N3)=C3C=C2)O1)NC4=C(N5CCN(CC6=CC=CO6)CC5)C=CC(C(C=N7)=CN7C)=C4\" >> example.smi"
      ],
      "metadata": {
        "id": "RoqXxUA3KXZr"
      },
      "execution_count": null,
      "outputs": []
    },
    {
      "cell_type": "code",
      "source": [
        "!echo \"O=C(C1=CC=C(C2=CC(C=CC=N3)=C3C=C2)O1)NC4=C(N5CCN(CC5)C)C=CC(C(C=N6)=CN6C)=C4\" >> example.smi"
      ],
      "metadata": {
        "id": "9Vmb6X4NKXcQ"
      },
      "execution_count": null,
      "outputs": []
    },
    {
      "cell_type": "code",
      "source": [
        "!echo \"O=C(C1=CC=C(C2=CC(C=CC=N3)=C3C=C2)O1)NC4=C(N5CCOCC5)C=CC(C6=CN=CC=C6)=C4\" >> example.smi"
      ],
      "metadata": {
        "id": "8o9uuie2KXe8"
      },
      "execution_count": null,
      "outputs": []
    },
    {
      "cell_type": "code",
      "source": [
        "!echo \"O=C(C1=CC=C(C2=CC(C=CC=N3)=C3C=C2)O1)NC4=C(N5CCOCC5)C=CC=C4\" >> example.smi"
      ],
      "metadata": {
        "id": "iMe26qvWKXhZ"
      },
      "execution_count": null,
      "outputs": []
    },
    {
      "cell_type": "code",
      "source": [
        "!echo \"O=C(C1=CC=C(C2=CC=NC=C2)O1)NC3=C(N4CCOCC4)C=CC(C5=CC=CN5)=C3\" >> example.smi"
      ],
      "metadata": {
        "id": "1VE7w-MRKXkD"
      },
      "execution_count": null,
      "outputs": []
    },
    {
      "cell_type": "code",
      "source": [
        "!echo \"O=C(C1=CC=C(C2=CC(C=CC=N3)=C3C=C2)O1)NC4=C(N5CCN(CC6=CC=CC=N6)CC5)C=CC(C(C=N7)=CN7C)=C4\" >> example.smi"
      ],
      "metadata": {
        "id": "ScIvfkD1K6UI"
      },
      "execution_count": null,
      "outputs": []
    },
    {
      "cell_type": "code",
      "source": [
        "!echo \"O=C(C1=COC(C2=CC=NC=C2)=N1)NC3=C(N4CCOCC4)C=CC(C5=CN=CC=C5)=C3\" >> example.smi"
      ],
      "metadata": {
        "id": "_nHX8pUtK6XI"
      },
      "execution_count": null,
      "outputs": []
    },
    {
      "cell_type": "code",
      "source": [
        "!echo \"O=C(C1=CC=C(C2=CC(C=CC=N3)=C3C=C2)O1)NC4=C(N5CCN(CC6=CC=CC=N6)CC5)C=CC(C7=CN=CC=C7)=C4\" >> example.smi"
      ],
      "metadata": {
        "id": "s1Ew9UPPK6Z_"
      },
      "execution_count": null,
      "outputs": []
    },
    {
      "cell_type": "code",
      "source": [
        "!echo \"O=C(C1=CC=C(C2=CC=NC=C2)O1)NC3=C(N4CCOCC4)C=CC(C(C=N5)=CN5C)=C3\" >> example.smi"
      ],
      "metadata": {
        "id": "C5U9F6k_K6cv"
      },
      "execution_count": null,
      "outputs": []
    },
    {
      "cell_type": "code",
      "source": [
        "!echo \"O=C(C1=CC=C(C2=CC(C=CC=N3)=C3C=C2)O1)NC4=C(N5CCOCC5)C=CC(C(F)(F)F)=C4\" >> example.smi"
      ],
      "metadata": {
        "id": "Pg2Jc0OrK6fc"
      },
      "execution_count": null,
      "outputs": []
    },
    {
      "cell_type": "code",
      "source": [
        "!echo \"O=C(C1=CC=C(C2=CC=NC=C2)O1)NC3=C(N4CCN(CC5=CC=CO5)CC4)C=CC(C6=CN(C(C)C)N=C6)=C3\" >> example.smi"
      ],
      "metadata": {
        "id": "EhhNmTHeK6hw"
      },
      "execution_count": null,
      "outputs": []
    },
    {
      "cell_type": "code",
      "source": [
        "!echo \"O=C(C1=CC=C(C2=CC(C=CC=N3)=C3C=C2)O1)NC4=C(N5CCN(CC6=CC=CC=C6)CC5)C=CC(C(C=N7)=CN7C)=C4\" >> example.smi"
      ],
      "metadata": {
        "id": "_H6XI2G2MMAI"
      },
      "execution_count": null,
      "outputs": []
    },
    {
      "cell_type": "code",
      "source": [
        "!echo \"O=C(C1=CC=C(C2=CC=NC=C2)O1)NC3=C(N4CCN(CC5=COC=C5)CC4)C=CC(C6=CN=CC=C6)=C3\" >> example.smi"
      ],
      "metadata": {
        "id": "L6_ZjmODMMDY"
      },
      "execution_count": null,
      "outputs": []
    },
    {
      "cell_type": "code",
      "source": [
        "!echo \"O=C(C1=CC=C(C2=CC=C(C=NN3)C3=C2)O1)NC4=C(N5CCOCC5)C=CC(C(C=N6)=CN6C)=C4\" >> example.smi"
      ],
      "metadata": {
        "id": "Jjj-I6lkMMGS"
      },
      "execution_count": null,
      "outputs": []
    },
    {
      "cell_type": "code",
      "source": [
        "!echo \"O=C(C1=CC=C(C2=CC=NC=C2)O1)NC3=C(N4CCN(CC4)C)C=CC(C5=CN=CC=C5)=C3\" >> example.smi"
      ],
      "metadata": {
        "id": "cMYrRQCSMMI0"
      },
      "execution_count": null,
      "outputs": []
    },
    {
      "cell_type": "code",
      "source": [
        "!echo \"O=C(C1=CC=C(C2=CC=NC=C2)O1)NC3=C(N4CCN(CC5=CC=CO5)CC4)C=CC(C6=CN=CC(C)=C6)=C3\" >> example.smi"
      ],
      "metadata": {
        "id": "YQ8QAWxEMMLG"
      },
      "execution_count": null,
      "outputs": []
    },
    {
      "cell_type": "code",
      "source": [
        "!echo \"O=C(C1=CC=C(C2=CC=NC=C2)O1)NC3=C(N4CCN(CC5=CC=CO5)CC4)C=CC(C6=CN=CC(C)=C6)=C3\" >> example.smi"
      ],
      "metadata": {
        "id": "aDQBA0H3M0lc"
      },
      "execution_count": null,
      "outputs": []
    },
    {
      "cell_type": "code",
      "source": [
        "!echo \"O=C(C1=CC=C(C2=CC=NC=C2)O1)NC3=C(N4CCN(CC5=CC=CO5)CC4)C=CC(C6=CN=CC(C)=C6)=C3\" >> example.smi"
      ],
      "metadata": {
        "id": "vIfCaJ3NM0oM"
      },
      "execution_count": null,
      "outputs": []
    },
    {
      "cell_type": "code",
      "source": [
        "!echo \"O=C(C1=CC=C(C2=CC=NC=C2)O1)NC3=C(N4CCN(CC5=CC=CO5)CC4)C=CC(C6=CN=CC(C)=C6)=C3\" >> example.smi"
      ],
      "metadata": {
        "id": "dvH-KXaWM0rO"
      },
      "execution_count": null,
      "outputs": []
    },
    {
      "cell_type": "code",
      "source": [
        "!echo \"O=C(C1=CC=C(C2=CC=NC=C2)O1)NC3=C(N4CCN(CC5=CC=CO5)CC4)C=CC(C6=CN=CC(C)=C6)=C3\" >> example.smi"
      ],
      "metadata": {
        "id": "_BzJ0Sh4M0uL"
      },
      "execution_count": null,
      "outputs": []
    },
    {
      "cell_type": "code",
      "execution_count": null,
      "metadata": {
        "colab": {
          "base_uri": "https://localhost:8080/"
        },
        "id": "QzVgdQys5Ure",
        "outputId": "cffba1ea-fe7b-47e8-8127-2cd66fcaf25b"
      },
      "outputs": [
        {
          "output_type": "stream",
          "name": "stdout",
          "text": [
            "15 molecules converted\n"
          ]
        }
      ],
      "source": [
        "!obabel example.smi -osdf -O ET2000.sdf --gen3d"
      ]
    },
    {
      "cell_type": "code",
      "execution_count": null,
      "metadata": {
        "id": "2QBSBEAVVOQK"
      },
      "outputs": [],
      "source": []
    },
    {
      "cell_type": "markdown",
      "metadata": {
        "id": "eF80fSjgYL6E"
      },
      "source": [
        "#3） Convert a whole lot of SMILES downloaed from Chembl database, starting from a CSV file."
      ]
    },
    {
      "cell_type": "code",
      "execution_count": null,
      "metadata": {
        "id": "XuFbMdsfuzVd"
      },
      "outputs": [],
      "source": [
        "import pandas as pd"
      ]
    },
    {
      "cell_type": "markdown",
      "metadata": {
        "id": "xyXbDkHuTS41"
      },
      "source": [
        "#⚠️⚠️👋Delete the missing pIC50 ROW as well as unnecessary coloumns except ID, Smiles and pIC05, using a MAC numbers software before submitting 1.csv to google colab"
      ]
    },
    {
      "cell_type": "code",
      "execution_count": null,
      "metadata": {
        "id": "umGjYhMBvMJ8",
        "colab": {
          "base_uri": "https://localhost:8080/",
          "height": 329
        },
        "outputId": "a510d48c-fcd1-4779-f7ba-0794dd268c63"
      },
      "outputs": [
        {
          "output_type": "error",
          "ename": "FileNotFoundError",
          "evalue": "ignored",
          "traceback": [
            "\u001b[0;31m---------------------------------------------------------------------------\u001b[0m",
            "\u001b[0;31mFileNotFoundError\u001b[0m                         Traceback (most recent call last)",
            "\u001b[0;32m<ipython-input-57-760b639b1779>\u001b[0m in \u001b[0;36m<module>\u001b[0;34m()\u001b[0m\n\u001b[0;32m----> 1\u001b[0;31m \u001b[0mdf\u001b[0m \u001b[0;34m=\u001b[0m \u001b[0mpd\u001b[0m\u001b[0;34m.\u001b[0m\u001b[0mread_csv\u001b[0m\u001b[0;34m(\u001b[0m\u001b[0;34m'1.csv'\u001b[0m\u001b[0;34m)\u001b[0m\u001b[0;34m\u001b[0m\u001b[0;34m\u001b[0m\u001b[0m\n\u001b[0m\u001b[1;32m      2\u001b[0m \u001b[0mdf\u001b[0m\u001b[0;34m\u001b[0m\u001b[0;34m\u001b[0m\u001b[0m\n",
            "\u001b[0;32m/usr/local/lib/python3.7/dist-packages/pandas/util/_decorators.py\u001b[0m in \u001b[0;36mwrapper\u001b[0;34m(*args, **kwargs)\u001b[0m\n\u001b[1;32m    309\u001b[0m                     \u001b[0mstacklevel\u001b[0m\u001b[0;34m=\u001b[0m\u001b[0mstacklevel\u001b[0m\u001b[0;34m,\u001b[0m\u001b[0;34m\u001b[0m\u001b[0;34m\u001b[0m\u001b[0m\n\u001b[1;32m    310\u001b[0m                 )\n\u001b[0;32m--> 311\u001b[0;31m             \u001b[0;32mreturn\u001b[0m \u001b[0mfunc\u001b[0m\u001b[0;34m(\u001b[0m\u001b[0;34m*\u001b[0m\u001b[0margs\u001b[0m\u001b[0;34m,\u001b[0m \u001b[0;34m**\u001b[0m\u001b[0mkwargs\u001b[0m\u001b[0;34m)\u001b[0m\u001b[0;34m\u001b[0m\u001b[0;34m\u001b[0m\u001b[0m\n\u001b[0m\u001b[1;32m    312\u001b[0m \u001b[0;34m\u001b[0m\u001b[0m\n\u001b[1;32m    313\u001b[0m         \u001b[0;32mreturn\u001b[0m \u001b[0mwrapper\u001b[0m\u001b[0;34m\u001b[0m\u001b[0;34m\u001b[0m\u001b[0m\n",
            "\u001b[0;32m/usr/local/lib/python3.7/dist-packages/pandas/io/parsers/readers.py\u001b[0m in \u001b[0;36mread_csv\u001b[0;34m(filepath_or_buffer, sep, delimiter, header, names, index_col, usecols, squeeze, prefix, mangle_dupe_cols, dtype, engine, converters, true_values, false_values, skipinitialspace, skiprows, skipfooter, nrows, na_values, keep_default_na, na_filter, verbose, skip_blank_lines, parse_dates, infer_datetime_format, keep_date_col, date_parser, dayfirst, cache_dates, iterator, chunksize, compression, thousands, decimal, lineterminator, quotechar, quoting, doublequote, escapechar, comment, encoding, encoding_errors, dialect, error_bad_lines, warn_bad_lines, on_bad_lines, delim_whitespace, low_memory, memory_map, float_precision, storage_options)\u001b[0m\n\u001b[1;32m    584\u001b[0m     \u001b[0mkwds\u001b[0m\u001b[0;34m.\u001b[0m\u001b[0mupdate\u001b[0m\u001b[0;34m(\u001b[0m\u001b[0mkwds_defaults\u001b[0m\u001b[0;34m)\u001b[0m\u001b[0;34m\u001b[0m\u001b[0;34m\u001b[0m\u001b[0m\n\u001b[1;32m    585\u001b[0m \u001b[0;34m\u001b[0m\u001b[0m\n\u001b[0;32m--> 586\u001b[0;31m     \u001b[0;32mreturn\u001b[0m \u001b[0m_read\u001b[0m\u001b[0;34m(\u001b[0m\u001b[0mfilepath_or_buffer\u001b[0m\u001b[0;34m,\u001b[0m \u001b[0mkwds\u001b[0m\u001b[0;34m)\u001b[0m\u001b[0;34m\u001b[0m\u001b[0;34m\u001b[0m\u001b[0m\n\u001b[0m\u001b[1;32m    587\u001b[0m \u001b[0;34m\u001b[0m\u001b[0m\n\u001b[1;32m    588\u001b[0m \u001b[0;34m\u001b[0m\u001b[0m\n",
            "\u001b[0;32m/usr/local/lib/python3.7/dist-packages/pandas/io/parsers/readers.py\u001b[0m in \u001b[0;36m_read\u001b[0;34m(filepath_or_buffer, kwds)\u001b[0m\n\u001b[1;32m    480\u001b[0m \u001b[0;34m\u001b[0m\u001b[0m\n\u001b[1;32m    481\u001b[0m     \u001b[0;31m# Create the parser.\u001b[0m\u001b[0;34m\u001b[0m\u001b[0;34m\u001b[0m\u001b[0;34m\u001b[0m\u001b[0m\n\u001b[0;32m--> 482\u001b[0;31m     \u001b[0mparser\u001b[0m \u001b[0;34m=\u001b[0m \u001b[0mTextFileReader\u001b[0m\u001b[0;34m(\u001b[0m\u001b[0mfilepath_or_buffer\u001b[0m\u001b[0;34m,\u001b[0m \u001b[0;34m**\u001b[0m\u001b[0mkwds\u001b[0m\u001b[0;34m)\u001b[0m\u001b[0;34m\u001b[0m\u001b[0;34m\u001b[0m\u001b[0m\n\u001b[0m\u001b[1;32m    483\u001b[0m \u001b[0;34m\u001b[0m\u001b[0m\n\u001b[1;32m    484\u001b[0m     \u001b[0;32mif\u001b[0m \u001b[0mchunksize\u001b[0m \u001b[0;32mor\u001b[0m \u001b[0miterator\u001b[0m\u001b[0;34m:\u001b[0m\u001b[0;34m\u001b[0m\u001b[0;34m\u001b[0m\u001b[0m\n",
            "\u001b[0;32m/usr/local/lib/python3.7/dist-packages/pandas/io/parsers/readers.py\u001b[0m in \u001b[0;36m__init__\u001b[0;34m(self, f, engine, **kwds)\u001b[0m\n\u001b[1;32m    809\u001b[0m             \u001b[0mself\u001b[0m\u001b[0;34m.\u001b[0m\u001b[0moptions\u001b[0m\u001b[0;34m[\u001b[0m\u001b[0;34m\"has_index_names\"\u001b[0m\u001b[0;34m]\u001b[0m \u001b[0;34m=\u001b[0m \u001b[0mkwds\u001b[0m\u001b[0;34m[\u001b[0m\u001b[0;34m\"has_index_names\"\u001b[0m\u001b[0;34m]\u001b[0m\u001b[0;34m\u001b[0m\u001b[0;34m\u001b[0m\u001b[0m\n\u001b[1;32m    810\u001b[0m \u001b[0;34m\u001b[0m\u001b[0m\n\u001b[0;32m--> 811\u001b[0;31m         \u001b[0mself\u001b[0m\u001b[0;34m.\u001b[0m\u001b[0m_engine\u001b[0m \u001b[0;34m=\u001b[0m \u001b[0mself\u001b[0m\u001b[0;34m.\u001b[0m\u001b[0m_make_engine\u001b[0m\u001b[0;34m(\u001b[0m\u001b[0mself\u001b[0m\u001b[0;34m.\u001b[0m\u001b[0mengine\u001b[0m\u001b[0;34m)\u001b[0m\u001b[0;34m\u001b[0m\u001b[0;34m\u001b[0m\u001b[0m\n\u001b[0m\u001b[1;32m    812\u001b[0m \u001b[0;34m\u001b[0m\u001b[0m\n\u001b[1;32m    813\u001b[0m     \u001b[0;32mdef\u001b[0m \u001b[0mclose\u001b[0m\u001b[0;34m(\u001b[0m\u001b[0mself\u001b[0m\u001b[0;34m)\u001b[0m\u001b[0;34m:\u001b[0m\u001b[0;34m\u001b[0m\u001b[0;34m\u001b[0m\u001b[0m\n",
            "\u001b[0;32m/usr/local/lib/python3.7/dist-packages/pandas/io/parsers/readers.py\u001b[0m in \u001b[0;36m_make_engine\u001b[0;34m(self, engine)\u001b[0m\n\u001b[1;32m   1038\u001b[0m             )\n\u001b[1;32m   1039\u001b[0m         \u001b[0;31m# error: Too many arguments for \"ParserBase\"\u001b[0m\u001b[0;34m\u001b[0m\u001b[0;34m\u001b[0m\u001b[0;34m\u001b[0m\u001b[0m\n\u001b[0;32m-> 1040\u001b[0;31m         \u001b[0;32mreturn\u001b[0m \u001b[0mmapping\u001b[0m\u001b[0;34m[\u001b[0m\u001b[0mengine\u001b[0m\u001b[0;34m]\u001b[0m\u001b[0;34m(\u001b[0m\u001b[0mself\u001b[0m\u001b[0;34m.\u001b[0m\u001b[0mf\u001b[0m\u001b[0;34m,\u001b[0m \u001b[0;34m**\u001b[0m\u001b[0mself\u001b[0m\u001b[0;34m.\u001b[0m\u001b[0moptions\u001b[0m\u001b[0;34m)\u001b[0m  \u001b[0;31m# type: ignore[call-arg]\u001b[0m\u001b[0;34m\u001b[0m\u001b[0;34m\u001b[0m\u001b[0m\n\u001b[0m\u001b[1;32m   1041\u001b[0m \u001b[0;34m\u001b[0m\u001b[0m\n\u001b[1;32m   1042\u001b[0m     \u001b[0;32mdef\u001b[0m \u001b[0m_failover_to_python\u001b[0m\u001b[0;34m(\u001b[0m\u001b[0mself\u001b[0m\u001b[0;34m)\u001b[0m\u001b[0;34m:\u001b[0m\u001b[0;34m\u001b[0m\u001b[0;34m\u001b[0m\u001b[0m\n",
            "\u001b[0;32m/usr/local/lib/python3.7/dist-packages/pandas/io/parsers/c_parser_wrapper.py\u001b[0m in \u001b[0;36m__init__\u001b[0;34m(self, src, **kwds)\u001b[0m\n\u001b[1;32m     49\u001b[0m \u001b[0;34m\u001b[0m\u001b[0m\n\u001b[1;32m     50\u001b[0m         \u001b[0;31m# open handles\u001b[0m\u001b[0;34m\u001b[0m\u001b[0;34m\u001b[0m\u001b[0;34m\u001b[0m\u001b[0m\n\u001b[0;32m---> 51\u001b[0;31m         \u001b[0mself\u001b[0m\u001b[0;34m.\u001b[0m\u001b[0m_open_handles\u001b[0m\u001b[0;34m(\u001b[0m\u001b[0msrc\u001b[0m\u001b[0;34m,\u001b[0m \u001b[0mkwds\u001b[0m\u001b[0;34m)\u001b[0m\u001b[0;34m\u001b[0m\u001b[0;34m\u001b[0m\u001b[0m\n\u001b[0m\u001b[1;32m     52\u001b[0m         \u001b[0;32massert\u001b[0m \u001b[0mself\u001b[0m\u001b[0;34m.\u001b[0m\u001b[0mhandles\u001b[0m \u001b[0;32mis\u001b[0m \u001b[0;32mnot\u001b[0m \u001b[0;32mNone\u001b[0m\u001b[0;34m\u001b[0m\u001b[0;34m\u001b[0m\u001b[0m\n\u001b[1;32m     53\u001b[0m \u001b[0;34m\u001b[0m\u001b[0m\n",
            "\u001b[0;32m/usr/local/lib/python3.7/dist-packages/pandas/io/parsers/base_parser.py\u001b[0m in \u001b[0;36m_open_handles\u001b[0;34m(self, src, kwds)\u001b[0m\n\u001b[1;32m    227\u001b[0m             \u001b[0mmemory_map\u001b[0m\u001b[0;34m=\u001b[0m\u001b[0mkwds\u001b[0m\u001b[0;34m.\u001b[0m\u001b[0mget\u001b[0m\u001b[0;34m(\u001b[0m\u001b[0;34m\"memory_map\"\u001b[0m\u001b[0;34m,\u001b[0m \u001b[0;32mFalse\u001b[0m\u001b[0;34m)\u001b[0m\u001b[0;34m,\u001b[0m\u001b[0;34m\u001b[0m\u001b[0;34m\u001b[0m\u001b[0m\n\u001b[1;32m    228\u001b[0m             \u001b[0mstorage_options\u001b[0m\u001b[0;34m=\u001b[0m\u001b[0mkwds\u001b[0m\u001b[0;34m.\u001b[0m\u001b[0mget\u001b[0m\u001b[0;34m(\u001b[0m\u001b[0;34m\"storage_options\"\u001b[0m\u001b[0;34m,\u001b[0m \u001b[0;32mNone\u001b[0m\u001b[0;34m)\u001b[0m\u001b[0;34m,\u001b[0m\u001b[0;34m\u001b[0m\u001b[0;34m\u001b[0m\u001b[0m\n\u001b[0;32m--> 229\u001b[0;31m             \u001b[0merrors\u001b[0m\u001b[0;34m=\u001b[0m\u001b[0mkwds\u001b[0m\u001b[0;34m.\u001b[0m\u001b[0mget\u001b[0m\u001b[0;34m(\u001b[0m\u001b[0;34m\"encoding_errors\"\u001b[0m\u001b[0;34m,\u001b[0m \u001b[0;34m\"strict\"\u001b[0m\u001b[0;34m)\u001b[0m\u001b[0;34m,\u001b[0m\u001b[0;34m\u001b[0m\u001b[0;34m\u001b[0m\u001b[0m\n\u001b[0m\u001b[1;32m    230\u001b[0m         )\n\u001b[1;32m    231\u001b[0m \u001b[0;34m\u001b[0m\u001b[0m\n",
            "\u001b[0;32m/usr/local/lib/python3.7/dist-packages/pandas/io/common.py\u001b[0m in \u001b[0;36mget_handle\u001b[0;34m(path_or_buf, mode, encoding, compression, memory_map, is_text, errors, storage_options)\u001b[0m\n\u001b[1;32m    705\u001b[0m                 \u001b[0mencoding\u001b[0m\u001b[0;34m=\u001b[0m\u001b[0mioargs\u001b[0m\u001b[0;34m.\u001b[0m\u001b[0mencoding\u001b[0m\u001b[0;34m,\u001b[0m\u001b[0;34m\u001b[0m\u001b[0;34m\u001b[0m\u001b[0m\n\u001b[1;32m    706\u001b[0m                 \u001b[0merrors\u001b[0m\u001b[0;34m=\u001b[0m\u001b[0merrors\u001b[0m\u001b[0;34m,\u001b[0m\u001b[0;34m\u001b[0m\u001b[0;34m\u001b[0m\u001b[0m\n\u001b[0;32m--> 707\u001b[0;31m                 \u001b[0mnewline\u001b[0m\u001b[0;34m=\u001b[0m\u001b[0;34m\"\"\u001b[0m\u001b[0;34m,\u001b[0m\u001b[0;34m\u001b[0m\u001b[0;34m\u001b[0m\u001b[0m\n\u001b[0m\u001b[1;32m    708\u001b[0m             )\n\u001b[1;32m    709\u001b[0m         \u001b[0;32melse\u001b[0m\u001b[0;34m:\u001b[0m\u001b[0;34m\u001b[0m\u001b[0;34m\u001b[0m\u001b[0m\n",
            "\u001b[0;31mFileNotFoundError\u001b[0m: [Errno 2] No such file or directory: '1.csv'"
          ]
        }
      ],
      "source": [
        "df = pd.read_csv('1.csv')\n",
        "df"
      ]
    },
    {
      "cell_type": "code",
      "execution_count": null,
      "metadata": {
        "id": "YfsD9-Y4Uznt"
      },
      "outputs": [],
      "source": [
        "#df1.to_csv('3.csv', index=False)"
      ]
    },
    {
      "cell_type": "markdown",
      "metadata": {
        "id": "dC7Ttc2sUMnt"
      },
      "source": [
        "# Grab out pIC50 as a CSV that will be used to combine with SDF derived smile data frame later, pay attention to the length of your data frame."
      ]
    },
    {
      "cell_type": "code",
      "execution_count": null,
      "metadata": {
        "id": "GcetQmHxHd6G"
      },
      "outputs": [],
      "source": [
        "!awk -F \"\\\"*,\\\"*\" '{print $3}' 1.csv > pIC50.csv"
      ]
    },
    {
      "cell_type": "markdown",
      "metadata": {
        "id": "_qDpdQf1bpLt"
      },
      "source": [
        "**⚠️⚠️ NOTE， make sure you mannually delete the first row that is not pIC50 numbers, i.e., delete the title \"pChembl\" or something like that.Otherwise, it will cause a mismatch problem later.**"
      ]
    },
    {
      "cell_type": "code",
      "execution_count": null,
      "metadata": {
        "id": "n9jjNzTqLm-Y"
      },
      "outputs": [],
      "source": [
        "pIC50 = pd.read_csv('pIC50.csv')\n",
        "pIC50"
      ]
    },
    {
      "cell_type": "markdown",
      "metadata": {
        "id": "qSPiu4FLUGtr"
      },
      "source": [
        "# Grab out SMILES and convert to a SDF with Obabel"
      ]
    },
    {
      "cell_type": "code",
      "execution_count": null,
      "metadata": {
        "id": "hcZWOmJK0MYJ"
      },
      "outputs": [],
      "source": [
        "!awk -F \"\\\"*,\\\"*\" '{print $2}' 1.csv > smile.smi"
      ]
    },
    {
      "cell_type": "markdown",
      "metadata": {
        "id": "h0DL0X7tZ5Lq"
      },
      "source": [
        "**⚠️⚠️NOTE, make sure you manually delete the first one or two rows that are not SMILES strings, make sure there are only pure SMILES, in a each one per row manner**"
      ]
    },
    {
      "cell_type": "code",
      "execution_count": null,
      "metadata": {
        "id": "yoGRCVan6sRY"
      },
      "outputs": [],
      "source": [
        "#@title Based on your file length, this could take a while\n",
        "!obabel smile.smi -osdf -O smile.sdf --gen3d"
      ]
    },
    {
      "cell_type": "markdown",
      "metadata": {
        "id": "6LtgH95LTm-9"
      },
      "source": [
        "# Use RDKIT to read SDF file to a Data Frame"
      ]
    },
    {
      "cell_type": "code",
      "execution_count": null,
      "metadata": {
        "id": "Ba3VLiWbC3FK"
      },
      "outputs": [],
      "source": [
        "from rdkit.Chem import PandasTools"
      ]
    },
    {
      "cell_type": "code",
      "execution_count": null,
      "metadata": {
        "id": "cXbXVifcEJ87"
      },
      "outputs": [],
      "source": [
        "SDFFile = \"smile.sdf\"\n",
        "df1 = PandasTools.LoadSDF(SDFFile)"
      ]
    },
    {
      "cell_type": "code",
      "execution_count": null,
      "metadata": {
        "id": "P2upU6KYFbXO"
      },
      "outputs": [],
      "source": [
        "df1"
      ]
    },
    {
      "cell_type": "markdown",
      "metadata": {
        "id": "CiqiBoZWTvlD"
      },
      "source": [
        "# Combine two Data Frame"
      ]
    },
    {
      "cell_type": "code",
      "execution_count": null,
      "metadata": {
        "id": "b_fWyfIQEKCd"
      },
      "outputs": [],
      "source": [
        "combined = pd.concat([df1, pIC50], axis=1)\n",
        "combined"
      ]
    },
    {
      "cell_type": "code",
      "execution_count": null,
      "metadata": {
        "id": "6E9CtgYccXrM"
      },
      "outputs": [],
      "source": [
        "⚠️⚠️ Please double check there is no mismatch issue after merging the two data frames."
      ]
    },
    {
      "cell_type": "code",
      "execution_count": null,
      "metadata": {
        "id": "49HY2q1kBu2O"
      },
      "outputs": [],
      "source": [
        "!obabel -ipdb unk.pdb -osdf -O unk.sdf --gen3d"
      ]
    }
  ],
  "metadata": {
    "colab": {
      "provenance": [],
      "include_colab_link": true
    },
    "kernelspec": {
      "display_name": "Python 3",
      "name": "python3"
    }
  },
  "nbformat": 4,
  "nbformat_minor": 0
}