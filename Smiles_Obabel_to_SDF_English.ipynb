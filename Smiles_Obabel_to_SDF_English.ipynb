{
  "cells": [
    {
      "cell_type": "markdown",
      "metadata": {
        "id": "view-in-github",
        "colab_type": "text"
      },
      "source": [
        "<a href=\"https://colab.research.google.com/github/quantaosun/SMILES-chemical-format-to-3D/blob/main/Smiles_Obabel_to_SDF_English.ipynb\" target=\"_parent\"><img src=\"https://colab.research.google.com/assets/colab-badge.svg\" alt=\"Open In Colab\"/></a>"
      ]
    },
    {
      "cell_type": "markdown",
      "metadata": {
        "id": "o-4IOizard4P"
      },
      "source": [
        "# 👋Hello, this notebook shows how to convert\n",
        " 1) a single smile string, or 2) Several smiles strings as a batch, or 3) a whole lot of smiles strings downloaded from Chembl database to SDF file format."
      ]
    },
    {
      "cell_type": "markdown",
      "source": [
        "## Skip the first two cells and directly use the obabel, if you starting this from binder"
      ],
      "metadata": {
        "id": "ZNVtfR7WZxFR"
      }
    },
    {
      "cell_type": "code",
      "source": [
        "!pip install -q condacolab\n",
        "import condacolab\n",
        "condacolab.install()"
      ],
      "metadata": {
        "colab": {
          "base_uri": "https://localhost:8080/"
        },
        "id": "sP7FDoLEu78B",
        "outputId": "bfdc236f-3435-4013-bf95-cb2861b7acc2"
      },
      "execution_count": 1,
      "outputs": [
        {
          "output_type": "stream",
          "name": "stdout",
          "text": [
            "⏬ Downloading https://github.com/jaimergp/miniforge/releases/latest/download/Mambaforge-colab-Linux-x86_64.sh...\n",
            "📦 Installing...\n",
            "📌 Adjusting configuration...\n",
            "🩹 Patching environment...\n",
            "⏲ Done in 0:00:21\n",
            "🔁 Restarting kernel...\n"
          ]
        }
      ]
    },
    {
      "cell_type": "code",
      "execution_count": null,
      "metadata": {
        "id": "H0mjQ2PcrSe5"
      },
      "outputs": [],
      "source": [
        "! conda install -c rdkit rdkit -y &> /dev/null\n",
        "!conda install -q -y -c openbabel openbabel -y &> /dev/null"
      ]
    },
    {
      "cell_type": "code",
      "execution_count": 2,
      "metadata": {
        "id": "uI1O58IWInH7",
        "colab": {
          "base_uri": "https://localhost:8080/"
        },
        "outputId": "05e606ce-04b2-4dc0-f8c1-56d416ae2c8f"
      },
      "outputs": [
        {
          "output_type": "stream",
          "name": "stdout",
          "text": [
            "1 molecule converted\n"
          ]
        }
      ],
      "source": [
        "#@title  1）Convert a single SMILE string\n",
        "Smiles = \"O=C1C(C2=CC(C=NC=C3)=C3C=C2)=CN(C)C4=CC=C(C(F)(F)F)C=C41\" #@param {type:\"string\"}\n",
        "!obabel -:\"{Smiles}\" -osdf -O ligand.sdf --gen3d"
      ]
    },
    {
      "cell_type": "code",
      "execution_count": null,
      "metadata": {
        "id": "q70DxWNg2NPf",
        "colab": {
          "base_uri": "https://localhost:8080/"
        },
        "outputId": "9f27713e-2874-4dc0-d908-a65cea1a70e4"
      },
      "outputs": [
        {
          "output_type": "stream",
          "name": "stdout",
          "text": [
            "1 molecule converted\n"
          ]
        }
      ],
      "source": [
        "!obabel -ipdb ligand.pdb -osdf -O ligand.sdf -gen 3d"
      ]
    },
    {
      "cell_type": "markdown",
      "metadata": {
        "id": "yMoS9cbMcuxG"
      },
      "source": [
        "# 2）Batch smiles conversion. There are two lines of smiles inside \"example.smi\"."
      ]
    },
    {
      "cell_type": "code",
      "execution_count": null,
      "metadata": {
        "id": "FTuuKDuIbhj7"
      },
      "outputs": [],
      "source": [
        "!echo \"O=C(C1=CC=C(C2=CC(C=NN3)=C3C=C2)O1)NC4=C(N5CCOCC5)=C4\" > example.smi"
      ]
    },
    {
      "cell_type": "code",
      "execution_count": null,
      "metadata": {
        "id": "DsgVSffSbtB-"
      },
      "outputs": [],
      "source": [
        "!echo \"O=C(C1=CC=C(C2=CC(C=CC=N3)=C3C=C2)O1=CN6C)=C4\" >> example.smi"
      ]
    },
    {
      "cell_type": "code",
      "execution_count": null,
      "metadata": {
        "colab": {
          "base_uri": "https://localhost:8080/"
        },
        "id": "QzVgdQys5Ure",
        "outputId": "cffba1ea-fe7b-47e8-8127-2cd66fcaf25b"
      },
      "outputs": [
        {
          "output_type": "stream",
          "name": "stdout",
          "text": [
            "15 molecules converted\n"
          ]
        }
      ],
      "source": [
        "!obabel example.smi -osdf -O ligands.sdf --gen3d"
      ]
    },
    {
      "cell_type": "code",
      "execution_count": null,
      "metadata": {
        "id": "2QBSBEAVVOQK"
      },
      "outputs": [],
      "source": []
    },
    {
      "cell_type": "markdown",
      "metadata": {
        "id": "eF80fSjgYL6E"
      },
      "source": [
        "#3） Convert a whole lot of SMILES downloaed from Chembl database, starting from a CSV file."
      ]
    },
    {
      "cell_type": "code",
      "execution_count": null,
      "metadata": {
        "id": "XuFbMdsfuzVd"
      },
      "outputs": [],
      "source": [
        "import pandas as pd"
      ]
    },
    {
      "cell_type": "markdown",
      "metadata": {
        "id": "xyXbDkHuTS41"
      },
      "source": [
        "#⚠️⚠️👋Delete the missing pIC50 ROW as well as unnecessary coloumns except ID, Smiles and pIC05, using a MAC numbers software before submitting 1.csv to google colab"
      ]
    },
    {
      "cell_type": "code",
      "execution_count": null,
      "metadata": {
        "id": "umGjYhMBvMJ8"
      },
      "outputs": [],
      "source": [
        "df = pd.read_csv('1.csv')\n",
        "df"
      ]
    },
    {
      "cell_type": "code",
      "execution_count": null,
      "metadata": {
        "id": "YfsD9-Y4Uznt"
      },
      "outputs": [],
      "source": [
        "#df1.to_csv('3.csv', index=False)"
      ]
    },
    {
      "cell_type": "markdown",
      "metadata": {
        "id": "dC7Ttc2sUMnt"
      },
      "source": [
        "# Grab out pIC50 as a CSV that will be used to combine with SDF derived smile data frame later, pay attention to the length of your data frame."
      ]
    },
    {
      "cell_type": "code",
      "execution_count": null,
      "metadata": {
        "id": "GcetQmHxHd6G"
      },
      "outputs": [],
      "source": [
        "!awk -F \"\\\"*,\\\"*\" '{print $3}' 1.csv > pIC50.csv"
      ]
    },
    {
      "cell_type": "markdown",
      "metadata": {
        "id": "_qDpdQf1bpLt"
      },
      "source": [
        "**⚠️⚠️ NOTE， make sure you mannually delete the first row that is not pIC50 numbers, i.e., delete the title \"pChembl\" or something like that.Otherwise, it will cause a mismatch problem later.**"
      ]
    },
    {
      "cell_type": "code",
      "execution_count": null,
      "metadata": {
        "id": "n9jjNzTqLm-Y"
      },
      "outputs": [],
      "source": [
        "pIC50 = pd.read_csv('pIC50.csv')\n",
        "pIC50"
      ]
    },
    {
      "cell_type": "markdown",
      "metadata": {
        "id": "qSPiu4FLUGtr"
      },
      "source": [
        "# Grab out SMILES and convert to a SDF with Obabel"
      ]
    },
    {
      "cell_type": "code",
      "execution_count": null,
      "metadata": {
        "id": "hcZWOmJK0MYJ"
      },
      "outputs": [],
      "source": [
        "!awk -F \"\\\"*,\\\"*\" '{print $2}' 1.csv > smile.smi"
      ]
    },
    {
      "cell_type": "markdown",
      "metadata": {
        "id": "h0DL0X7tZ5Lq"
      },
      "source": [
        "**⚠️⚠️NOTE, make sure you manually delete the first one or two rows that are not SMILES strings, make sure there are only pure SMILES, in a each one per row manner**"
      ]
    },
    {
      "cell_type": "code",
      "execution_count": null,
      "metadata": {
        "id": "yoGRCVan6sRY"
      },
      "outputs": [],
      "source": [
        "#@title Based on your file length, this could take a while\n",
        "!obabel smile.smi -osdf -O smile.sdf --gen3d"
      ]
    },
    {
      "cell_type": "markdown",
      "metadata": {
        "id": "6LtgH95LTm-9"
      },
      "source": [
        "# Use RDKIT to read SDF file to a Data Frame"
      ]
    },
    {
      "cell_type": "code",
      "execution_count": null,
      "metadata": {
        "id": "Ba3VLiWbC3FK"
      },
      "outputs": [],
      "source": [
        "from rdkit.Chem import PandasTools"
      ]
    },
    {
      "cell_type": "code",
      "execution_count": null,
      "metadata": {
        "id": "cXbXVifcEJ87"
      },
      "outputs": [],
      "source": [
        "SDFFile = \"smile.sdf\"\n",
        "df1 = PandasTools.LoadSDF(SDFFile)"
      ]
    },
    {
      "cell_type": "code",
      "execution_count": null,
      "metadata": {
        "id": "P2upU6KYFbXO"
      },
      "outputs": [],
      "source": [
        "df1"
      ]
    },
    {
      "cell_type": "markdown",
      "metadata": {
        "id": "CiqiBoZWTvlD"
      },
      "source": [
        "# Combine two Data Frame"
      ]
    },
    {
      "cell_type": "code",
      "execution_count": null,
      "metadata": {
        "id": "b_fWyfIQEKCd"
      },
      "outputs": [],
      "source": [
        "combined = pd.concat([df1, pIC50], axis=1)\n",
        "combined"
      ]
    },
    {
      "cell_type": "code",
      "execution_count": null,
      "metadata": {
        "id": "6E9CtgYccXrM"
      },
      "outputs": [],
      "source": [
        "⚠️⚠️ Please double check there is no mismatch issue after merging the two data frames."
      ]
    },
    {
      "cell_type": "code",
      "execution_count": null,
      "metadata": {
        "id": "49HY2q1kBu2O"
      },
      "outputs": [],
      "source": [
        "!obabel -ipdb unk.pdb -osdf -O unk.sdf --gen3d"
      ]
    }
  ],
  "metadata": {
    "colab": {
      "provenance": [],
      "include_colab_link": true
    },
    "kernelspec": {
      "display_name": "Python 3",
      "name": "python3"
    }
  },
  "nbformat": 4,
  "nbformat_minor": 0
}